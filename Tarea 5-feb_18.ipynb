{
 "cells": [
  {
   "cell_type": "code",
   "execution_count": null,
   "metadata": {},
   "outputs": [],
   "source": [
    "import tensorflow_datasets as tfds\n",
    "from datetime import datetime\n",
    "import numpy as np\n",
    "import matplotlib.pyplot as plt\n",
    "import tensorflow as tf\n",
    "from tensorflow.keras import layers\n",
    "from tensorflow.keras.layers import Embedding,Dense\n",
    "from tensorflow.keras import Sequential\n",
    "from sklearn.metrics import r2_score\n",
    "import pandas as pd\n",
    "import pandas as pd\n",
    "print(tf.__version__)"
   ]
  },
  {
   "cell_type": "markdown",
   "metadata": {},
   "source": [
    "## Tarea 5. Uso del modulo Model en TF con keras, functional API y clases"
   ]
  },
  {
   "cell_type": "markdown",
   "metadata": {},
   "source": [
    "## Punto 1 Uso de Sequential, freeze y Functiona API"
   ]
  },
  {
   "cell_type": "code",
   "execution_count": null,
   "metadata": {},
   "outputs": [],
   "source": [
    "(ds_train_mnist, ds_test_mnist), ds_info_mnist = tfds.load(\n",
    "    name = 'mnist',\n",
    "    split=['train', 'test'],\n",
    "    shuffle_files=True,\n",
    "    as_supervised=True,\n",
    "    with_info=True)\n",
    "fig = tfds.show_examples(ds_train_mnist, ds_info_mnist)"
   ]
  },
  {
   "cell_type": "code",
   "execution_count": null,
   "metadata": {},
   "outputs": [],
   "source": [
    "(ds_train_fashion, ds_test_fashion), ds_info_fashion = tfds.load(\n",
    "    name = 'fashion_mnist',\n",
    "    split=['train', 'test'],\n",
    "    shuffle_files=True,\n",
    "    as_supervised=True,\n",
    "    with_info=True)\n",
    "fig = tfds.show_examples(ds_train_fashion, ds_info_fashion)"
   ]
  },
  {
   "cell_type": "code",
   "execution_count": null,
   "metadata": {},
   "outputs": [],
   "source": [
    "def one_hot(dx,dy):\n",
    "    return dx, tf.one_hot(\n",
    "    dy, 10)\n",
    "def data_load_sequential(data_ds,shuffle_train=True ,batch_=5):\n",
    "    data_ds=data_ds.map(one_hot)\n",
    "    data_ds = data_ds.cache()\n",
    "    if shuffle_train:\n",
    "        data_ds = data_ds.shuffle(len(data_ds))\n",
    "    data_ds = data_ds.batch(batch_)\n",
    "    data_ds = data_ds.prefetch(tf.data.AUTOTUNE)\n",
    "    return data_ds\n",
    "\n",
    "##Generacion de pipeline para Mnist y Fashion-Mnist\n",
    "\n",
    "data_train_mnist = data_load_sequential(ds_train_mnist)\n",
    "data_test_mnist = data_load_sequential(ds_test_mnist,shuffle_train=False)\n",
    "data_train_fashion = data_load_sequential(ds_train_fashion)\n",
    "data_test_fashion = data_load_sequential(ds_test_fashion,shuffle_train=False)\n",
    "\n",
    "for ds,lb in data_train_mnist.take(1):\n",
    "    print(ds.shape,lb)\n",
    "shaped_mnist=ds[0].numpy().shape\n",
    "for ds,lb in data_train_fashion.take(1):\n",
    "    print(ds.shape,lb)\n",
    "shaped_fashion=ds[0].numpy().shape\n",
    "\n",
    "from tensorflow.keras import layers, Sequential\n",
    "trainprocess = Sequential([                \n",
    "        layers.Rescaling(scale=1.0 / 255),\n",
    "        layers.Flatten()\n",
    "    ],name='preprocess')"
   ]
  },
  {
   "cell_type": "markdown",
   "metadata": {},
   "source": [
    "## Genere un modelo de red neuronal (para mnist-dataset) con la siguiente estructura:\n",
    "    1-Capa de entrada (recuerde que el shape viene dado por shaped_mnist)\n",
    "    2-Capa de preprocesamiento (trainprocess)\n",
    "    3-Capa densa de 128 neuronas con activacion relu con nombre='dense_128'.\n",
    "    4-Capa densa de 64 neuronas con activacion relu con nombre='dense_64'.\n",
    "    5-Capa densa de 64 neuronas con activacion relu con nombre='dense_64a'.\n",
    "    6-Capa densa de 32 neuronas con activacion relu con nombre='dense_32'.\n",
    "    7-Capa densa de 32 neuronas con activacion relu con nombre='dense_32a'.\n",
    "    8-Capa densa de salida de 10 neuronas con activacion softmax con nombre='dense_output_mnist'.\n",
    "    \n",
    "### Construya el modelo usando sequential y model.add:\n",
    "    "
   ]
  },
  {
   "cell_type": "code",
   "execution_count": null,
   "metadata": {},
   "outputs": [],
   "source": [
    "from tensorflow.keras import Sequential\n",
    "from tensorflow.keras.layers import Dense\n",
    "\n",
    "## complete modelo usando sequential\n",
    "model_mnist = Sequential([## complete codigo],name='model_mnist'\n",
    "    \n",
    "    \n",
    "## complete modelo usando .add\n",
    "model_mnist = tf.keras.Sequential()\n",
    "model_mnist.add(## complete codigo)\n",
    "#.\n",
    "#.\n",
    "#.\n",
    "    \n",
    "## Imprima el modelo\n",
    "model_mnist.summary()"
   ]
  },
  {
   "cell_type": "code",
   "execution_count": null,
   "metadata": {},
   "outputs": [],
   "source": [
    "## Compile esta celda!!\n",
    "from tensorflow.keras.optimizers import SGD\n",
    "sgd = SGD(lr=0.01)\n",
    "model_mnist.compile(loss='CategoricalCrossentropy',\n",
    "              optimizer=sgd,metrics=['accuracy'])\n",
    "\n",
    "history_mnist=model_mnist.fit(data_train_mnist,validation_data=data_test_mnist, epochs=10,verbose=1)"
   ]
  },
  {
   "cell_type": "markdown",
   "metadata": {},
   "source": [
    "## Usando functional API, construya un modelo cuyo 'input' sea la entrada del modelo_mnist y el 'output' sea la salida de la capa del modelo mnist llamada 'dense_32a':"
   ]
  },
  {
   "cell_type": "code",
   "execution_count": null,
   "metadata": {},
   "outputs": [],
   "source": [
    "model_fashion = tf.keras.Model(inputs=##complete codigo , outputs=##complete codigo)"
   ]
  },
  {
   "cell_type": "code",
   "execution_count": null,
   "metadata": {},
   "outputs": [],
   "source": [
    "model_fashion.summary()"
   ]
  },
  {
   "cell_type": "markdown",
   "metadata": {},
   "source": [
    "## Congele el modelo:"
   ]
  },
  {
   "cell_type": "code",
   "execution_count": null,
   "metadata": {},
   "outputs": [],
   "source": [
    "model_fashion.trainable=##complete codigo"
   ]
  },
  {
   "cell_type": "markdown",
   "metadata": {},
   "source": [
    "## Construir el modelo para fashion_mnist:\n",
    "    1- Modelo model_fashion\n",
    "    2- capa densa de 10 neuronas con activacion softmax"
   ]
  },
  {
   "cell_type": "code",
   "execution_count": null,
   "metadata": {},
   "outputs": [],
   "source": [
    "model_fashion_full = Sequential([\n",
    "## complete codigo\n",
    "## complete codigo\n",
    "                                ])"
   ]
  },
  {
   "cell_type": "code",
   "execution_count": null,
   "metadata": {},
   "outputs": [],
   "source": [
    "model_fashion_full.summary()"
   ]
  },
  {
   "cell_type": "code",
   "execution_count": null,
   "metadata": {},
   "outputs": [],
   "source": [
    "from tensorflow.keras.optimizers import SGD\n",
    "sgd = SGD(lr=0.01)\n",
    "model_fashion_full.compile(loss='CategoricalCrossentropy',\n",
    "              optimizer=sgd,metrics=['accuracy'])\n",
    "\n",
    "history_fashion=model_fashion_full.fit(data_test_fashion,validation_data=data_test_fashion, epochs=5,verbose=1)"
   ]
  },
  {
   "cell_type": "code",
   "execution_count": null,
   "metadata": {},
   "outputs": [],
   "source": []
  },
  {
   "cell_type": "markdown",
   "metadata": {},
   "source": [
    "## Punto 2. Modelo TF para clasificacion.  Complete dos modelos para la clasificacion binaria.  Cada modelo:  model y model2,  deber contener a la salida una y dos neuronas respectivamente.\n",
    "  "
   ]
  },
  {
   "cell_type": "code",
   "execution_count": null,
   "metadata": {},
   "outputs": [],
   "source": [
    "data_x = tf.random.uniform(\n",
    "    (5000,2), minval=-10, maxval=10,seed=42, dtype=tf.float64).numpy()\n",
    "def label_circle(x,y):\n",
    "    if  1*np.sqrt(10)<x**2+y**2<= 5*np.sqrt(10):\n",
    "        return  1\n",
    "    elif  20*np.sqrt(10)>=x**2+y**2>= 10*np.sqrt(10):\n",
    "        return 0\n",
    "    else:\n",
    "        return 2\n",
    "def squared_circle(x,y):\n",
    "    return x**2, y**2\n",
    "    \n",
    "df =pd.DataFrame(data_x,columns=['x0','x1'])\n",
    "df['y'] =df.apply(lambda x: label_circle(x['x0'],x['x1']), axis=1)\n",
    "df[['x02','x12']] =df.apply(lambda x: squared_circle(x['x0'],x['x1']), axis=1, result_type=\"expand\")\n",
    "df=df[df['y']!=2]\n",
    "df.plot.scatter(x='x0',y='x1', c='y',colormap='viridis')"
   ]
  },
  {
   "cell_type": "code",
   "execution_count": null,
   "metadata": {},
   "outputs": [],
   "source": [
    "def get_dataset_partitions_tf(ds, train_split=0.8, val_split=0.1, test_split=0.1, shuffle=True,batch_=30):\n",
    "    assert (train_split + test_split + val_split) == 1\n",
    "    \n",
    "    if shuffle:\n",
    "        ds = ds.shuffle(len_df, seed=12)\n",
    "    \n",
    "    train_size = int(train_split * len_df)\n",
    "    val_size = int(val_split * len_df)\n",
    "    \n",
    "    train_ds = ds.take(train_size).batch(batch_).prefetch(tf.data.AUTOTUNE)\n",
    "    val_ds = ds.skip(train_size).take(val_size).batch(batch_).prefetch(tf.data.AUTOTUNE)\n",
    "    test_ds = ds.skip(train_size).skip(val_size).batch(batch_).prefetch(tf.data.AUTOTUNE)\n",
    "    \n",
    "    return train_ds, val_ds, test_ds\n",
    "\n",
    "\n",
    "def preprocess(x,y):\n",
    "    return ## completar codigo para cada modelo\n",
    "\n",
    "\n",
    "pandas_dataset_X = tf.data.Dataset.from_tensor_slices(df[['x0','x1']].values)\n",
    "pandas_dataset_y = tf.data.Dataset.from_tensor_slices(df['y'].values)\n",
    "dataset = tf.data.Dataset.zip((pandas_dataset_X,pandas_dataset_y))\n",
    "len_df =dataset.cardinality().numpy()\n",
    "dataset=dataset.shuffle(len_df)\n",
    "dataset=dataset = dataset.map(\n",
    "        preprocess, num_parallel_calls=tf.data.AUTOTUNE)\n",
    "\n",
    "print(len_df,dataset.element_spec)\n",
    "BATCH=50\n",
    "train_data_class,val_data_class, test_data_class = get_dataset_partitions_tf(dataset, train_split=0.8, val_split=0.1, test_split=0.1,batch_=BATCH)"
   ]
  },
  {
   "cell_type": "code",
   "execution_count": null,
   "metadata": {},
   "outputs": [],
   "source": []
  },
  {
   "cell_type": "code",
   "execution_count": null,
   "metadata": {},
   "outputs": [],
   "source": [
    "from keras.layers import Dense, Dropout, Activation\n",
    "from tensorflow.keras.optimizers import SGD\n",
    "model = Sequential()\n",
    "model.add(tf.keras.Input((2,)))\n",
    "model.add(tf.keras.layers.Lambda(lambda x: x ** 2))\n",
    "model.add(Dense(1))\n",
    "### completar codigo\n",
    "\n",
    "sgd = SGD(lr=0.01)\n",
    "model.compile(loss='binary_crossentropy',\n",
    "              optimizer=sgd,metrics=['accuracy'])\n",
    "history=model.fit(train_data_class, validation_data=val_data_class ,epochs=10,verbose=1)"
   ]
  },
  {
   "cell_type": "code",
   "execution_count": null,
   "metadata": {},
   "outputs": [],
   "source": [
    "model2 = Sequential()\n",
    "model2.add(tf.keras.Input((2,)))\n",
    "model2.add(tf.keras.layers.Lambda(lambda x: x ** 2))\n",
    "model2.add(Dense(2))\n",
    "### completar codigo\n",
    "\n",
    "sgd = SGD(lr=0.01)\n",
    "model2.compile(loss='categorical_crossentropy',\n",
    "              optimizer=sgd,metrics=['accuracy'])\n",
    "history=model2.fit(train_data_class, validation_data=val_data_class ,epochs=10,verbose=1)"
   ]
  },
  {
   "cell_type": "code",
   "execution_count": null,
   "metadata": {},
   "outputs": [],
   "source": []
  },
  {
   "cell_type": "markdown",
   "metadata": {},
   "source": [
    "## Punto 3. En el readme del repositorio, escriba la siguiente informacion:\n",
    "    1- Algunas propuestas que se han descutido en el grupo en torno al proyecto\n",
    "    2- El uso de las funciones de activacion en Deep Learning\n",
    "    3- overfitting y underfitting"
   ]
  },
  {
   "cell_type": "code",
   "execution_count": null,
   "metadata": {},
   "outputs": [],
   "source": []
  },
  {
   "cell_type": "code",
   "execution_count": null,
   "metadata": {},
   "outputs": [],
   "source": []
  }
 ],
 "metadata": {
  "kernelspec": {
   "display_name": "es_tf27",
   "language": "python",
   "name": "es_tf27"
  },
  "language_info": {
   "codemirror_mode": {
    "name": "ipython",
    "version": 3
   },
   "file_extension": ".py",
   "mimetype": "text/x-python",
   "name": "python",
   "nbconvert_exporter": "python",
   "pygments_lexer": "ipython3",
   "version": "3.8.5"
  }
 },
 "nbformat": 4,
 "nbformat_minor": 4
}
